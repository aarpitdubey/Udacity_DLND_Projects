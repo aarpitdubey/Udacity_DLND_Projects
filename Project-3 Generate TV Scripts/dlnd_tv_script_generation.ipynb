{
 "cells": [
  {
   "cell_type": "markdown",
   "metadata": {},
   "source": [
    "# TV Script Generation\n",
    "In this project, you'll generate your own [Simpsons](https://en.wikipedia.org/wiki/The_Simpsons) TV scripts using RNNs.  You'll be using part of the [Simpsons dataset](https://www.kaggle.com/wcukierski/the-simpsons-by-the-data) of scripts from 27 seasons.  The Neural Network you'll build will generate a new TV script for a scene at [Moe's Tavern](https://simpsonswiki.com/wiki/Moe's_Tavern).\n",
    "## Get the Data\n",
    "The data is already provided for you.  You'll be using a subset of the original dataset.  It consists of only the scenes in Moe's Tavern.  This doesn't include other versions of the tavern, like \"Moe's Cavern\", \"Flaming Moe's\", \"Uncle Moe's Family Feed-Bag\", etc.."
   ]
  },
  {
   "cell_type": "code",
   "execution_count": 1,
   "metadata": {},
   "outputs": [],
   "source": [
    "\"\"\"\n",
    "DON'T MODIFY ANYTHING IN THIS CELL\n",
    "\"\"\"\n",
    "import helper\n",
    "\n",
    "data_dir = './data/simpsons/moes_tavern_lines.txt'\n",
    "text = helper.load_data(data_dir)\n",
    "# Ignore notice, since we don't use it for analysing the data\n",
    "text = text[81:]"
   ]
  },
  {
   "cell_type": "markdown",
   "metadata": {},
   "source": [
    "## Explore the Data\n",
    "Play around with `view_sentence_range` to view different parts of the data."
   ]
  },
  {
   "cell_type": "code",
   "execution_count": 2,
   "metadata": {},
   "outputs": [
    {
     "name": "stdout",
     "output_type": "stream",
     "text": [
      "Dataset Stats\n",
      "Roughly the number of unique words: 11492\n",
      "Number of scenes: 262\n",
      "Average number of sentences in each scene: 15.251908396946565\n",
      "Number of lines: 4258\n",
      "Average number of words in each line: 11.50164396430249\n",
      "\n",
      "The sentences 0 to 10:\n",
      "\n",
      "Moe_Szyslak: (INTO PHONE) Moe's Tavern. Where the elite meet to drink.\n",
      "Bart_Simpson: Eh, yeah, hello, is Mike there? Last name, Rotch.\n",
      "Moe_Szyslak: (INTO PHONE) Hold on, I'll check. (TO BARFLIES) Mike Rotch. Mike Rotch. Hey, has anybody seen Mike Rotch, lately?\n",
      "Moe_Szyslak: (INTO PHONE) Listen you little puke. One of these days I'm gonna catch you, and I'm gonna carve my name on your back with an ice pick.\n",
      "Moe_Szyslak: What's the matter Homer? You're not your normal effervescent self.\n",
      "Homer_Simpson: I got my problems, Moe. Give me another one.\n",
      "Moe_Szyslak: Homer, hey, you should not drink to forget your problems.\n",
      "Barney_Gumble: Yeah, you should only drink to enhance your social skills.\n",
      "\n"
     ]
    }
   ],
   "source": [
    "view_sentence_range = (0, 10)\n",
    "\n",
    "\"\"\"\n",
    "DON'T MODIFY ANYTHING IN THIS CELL\n",
    "\"\"\"\n",
    "import numpy as np\n",
    "\n",
    "print('Dataset Stats')\n",
    "print('Roughly the number of unique words: {}'.format(len({word: None for word in text.split()})))\n",
    "scenes = text.split('\\n\\n')\n",
    "print('Number of scenes: {}'.format(len(scenes)))\n",
    "sentence_count_scene = [scene.count('\\n') for scene in scenes]\n",
    "print('Average number of sentences in each scene: {}'.format(np.average(sentence_count_scene)))\n",
    "\n",
    "sentences = [sentence for scene in scenes for sentence in scene.split('\\n')]\n",
    "print('Number of lines: {}'.format(len(sentences)))\n",
    "word_count_sentence = [len(sentence.split()) for sentence in sentences]\n",
    "print('Average number of words in each line: {}'.format(np.average(word_count_sentence)))\n",
    "\n",
    "print()\n",
    "print('The sentences {} to {}:'.format(*view_sentence_range))\n",
    "print('\\n'.join(text.split('\\n')[view_sentence_range[0]:view_sentence_range[1]]))"
   ]
  },
  {
   "cell_type": "markdown",
   "metadata": {},
   "source": [
    "## Implement Preprocessing Functions\n",
    "The first thing to do to any dataset is preprocessing.  Implement the following preprocessing functions below:\n",
    "- Lookup Table\n",
    "- Tokenize Punctuation\n",
    "\n",
    "### Lookup Table\n",
    "To create a word embedding, you first need to transform the words to ids.  In this function, create two dictionaries:\n",
    "- Dictionary to go from the words to an id, we'll call `vocab_to_int`\n",
    "- Dictionary to go from the id to word, we'll call `int_to_vocab`\n",
    "\n",
    "Return these dictionaries in the following tuple `(vocab_to_int, int_to_vocab)`"
   ]
  },
  {
   "cell_type": "code",
   "execution_count": 3,
   "metadata": {},
   "outputs": [
    {
     "name": "stdout",
     "output_type": "stream",
     "text": [
      "Tests Passed\n"
     ]
    }
   ],
   "source": [
    "import numpy as np\n",
    "import problem_unittests as tests\n",
    "from collections import Counter\n",
    "\n",
    "def create_lookup_tables(text):\n",
    "    \"\"\"\n",
    "    Create lookup tables for vocabulary\n",
    "    :param text: The text of tv scripts split into words\n",
    "    :return: A tuple of dicts (vocab_to_int, int_to_vocab)\n",
    "    \"\"\"\n",
    "    # TODO: Implement Function\n",
    "    #Code snippet from Skip-gram Word2vec\n",
    "    word_counts = Counter(text)  \n",
    "    sorted_vocab = sorted(word_counts, key=word_counts.get, reverse=True)\n",
    "    int_to_vocab = {ii: word for ii, word in enumerate(sorted_vocab)}\n",
    "    vocab_to_int = {word: ii for ii, word in int_to_vocab.items()}\n",
    "    \n",
    "    return vocab_to_int, int_to_vocab\n",
    "\n",
    "\n",
    "\"\"\"\n",
    "DON'T MODIFY ANYTHING IN THIS CELL THAT IS BELOW THIS LINE\n",
    "\"\"\"\n",
    "tests.test_create_lookup_tables(create_lookup_tables)"
   ]
  },
  {
   "cell_type": "markdown",
   "metadata": {},
   "source": [
    "### Tokenize Punctuation\n",
    "We'll be splitting the script into a word array using spaces as delimiters.  However, punctuations like periods and exclamation marks make it hard for the neural network to distinguish between the word \"bye\" and \"bye!\".\n",
    "\n",
    "Implement the function `token_lookup` to return a dict that will be used to tokenize symbols like \"!\" into \"||Exclamation_Mark||\".  Create a dictionary for the following symbols where the symbol is the key and value is the token:\n",
    "- Period ( . )\n",
    "- Comma ( , )\n",
    "- Quotation Mark ( \" )\n",
    "- Semicolon ( ; )\n",
    "- Exclamation mark ( ! )\n",
    "- Question mark ( ? )\n",
    "- Left Parentheses ( ( )\n",
    "- Right Parentheses ( ) )\n",
    "- Dash ( -- )\n",
    "- Return ( \\n )\n",
    "\n",
    "This dictionary will be used to token the symbols and add the delimiter (space) around it.  This separates the symbols as it's own word, making it easier for the neural network to predict on the next word. Make sure you don't use a token that could be confused as a word. Instead of using the token \"dash\", try using something like \"||dash||\"."
   ]
  },
  {
   "cell_type": "code",
   "execution_count": 4,
   "metadata": {},
   "outputs": [
    {
     "name": "stdout",
     "output_type": "stream",
     "text": [
      "Tests Passed\n"
     ]
    }
   ],
   "source": [
    "def token_lookup():\n",
    "    \"\"\"\n",
    "    Generate a dict to turn punctuation into a token.\n",
    "    :return: Tokenize dictionary where the key is the punctuation and the value is the token\n",
    "    \"\"\"\n",
    "    # TODO: Implement Function\n",
    "    \n",
    "    token_dict = {\n",
    "        '.'  : '||period||',\n",
    "        ','  : '||comma||',\n",
    "        '\"'  : '||quotation_mark||',\n",
    "        ';'  : '||semicolon||',\n",
    "        '!'  : '||exclamation_mark||',\n",
    "        '?'  : '||question_mark||',\n",
    "        '('  : '||left_parentheses',\n",
    "        ')'  : '||right_parentheses',\n",
    "        '--' : '||dash||',\n",
    "        '\\n' : '||return||'\n",
    "    }\n",
    "    \n",
    "    return token_dict\n",
    "\n",
    "\n",
    "\"\"\"\n",
    "DON'T MODIFY ANYTHING IN THIS CELL THAT IS BELOW THIS LINE\n",
    "\"\"\"\n",
    "tests.test_tokenize(token_lookup)"
   ]
  },
  {
   "cell_type": "markdown",
   "metadata": {},
   "source": [
    "## Preprocess all the data and save it\n",
    "Running the code cell below will preprocess all the data and save it to file."
   ]
  },
  {
   "cell_type": "code",
   "execution_count": 5,
   "metadata": {},
   "outputs": [],
   "source": [
    "\"\"\"\n",
    "DON'T MODIFY ANYTHING IN THIS CELL\n",
    "\"\"\"\n",
    "# Preprocess Training, Validation, and Testing Data\n",
    "helper.preprocess_and_save_data(data_dir, token_lookup, create_lookup_tables)"
   ]
  },
  {
   "cell_type": "markdown",
   "metadata": {},
   "source": [
    "# Check Point\n",
    "This is your first checkpoint. If you ever decide to come back to this notebook or have to restart the notebook, you can start from here. The preprocessed data has been saved to disk."
   ]
  },
  {
   "cell_type": "code",
   "execution_count": 6,
   "metadata": {},
   "outputs": [],
   "source": [
    "\"\"\"\n",
    "DON'T MODIFY ANYTHING IN THIS CELL\n",
    "\"\"\"\n",
    "import helper\n",
    "import numpy as np\n",
    "import problem_unittests as tests\n",
    "\n",
    "int_text, vocab_to_int, int_to_vocab, token_dict = helper.load_preprocess()"
   ]
  },
  {
   "cell_type": "markdown",
   "metadata": {},
   "source": [
    "## Build the Neural Network\n",
    "You'll build the components necessary to build a RNN by implementing the following functions below:\n",
    "- get_inputs\n",
    "- get_init_cell\n",
    "- get_embed\n",
    "- build_rnn\n",
    "- build_nn\n",
    "- get_batches\n",
    "\n",
    "### Check the Version of TensorFlow and Access to GPU"
   ]
  },
  {
   "cell_type": "code",
   "execution_count": 7,
   "metadata": {},
   "outputs": [
    {
     "name": "stdout",
     "output_type": "stream",
     "text": [
      "TensorFlow Version: 1.10.0\n",
      "Default GPU Device: /device:GPU:0\n"
     ]
    }
   ],
   "source": [
    "\"\"\"\n",
    "DON'T MODIFY ANYTHING IN THIS CELL\n",
    "\"\"\"\n",
    "from distutils.version import LooseVersion\n",
    "import warnings\n",
    "import tensorflow as tf\n",
    "\n",
    "# Check TensorFlow Version\n",
    "assert LooseVersion(tf.__version__) >= LooseVersion('1.3'), 'Please use TensorFlow version 1.3 or newer'\n",
    "print('TensorFlow Version: {}'.format(tf.__version__))\n",
    "\n",
    "# Check for a GPU\n",
    "if not tf.test.gpu_device_name():\n",
    "    warnings.warn('No GPU found. Please use a GPU to train your neural network.')\n",
    "else:\n",
    "    print('Default GPU Device: {}'.format(tf.test.gpu_device_name()))"
   ]
  },
  {
   "cell_type": "markdown",
   "metadata": {},
   "source": [
    "### Input\n",
    "Implement the `get_inputs()` function to create TF Placeholders for the Neural Network.  It should create the following placeholders:\n",
    "- Input text placeholder named \"input\" using the [TF Placeholder](https://www.tensorflow.org/api_docs/python/tf/placeholder) `name` parameter.\n",
    "- Targets placeholder\n",
    "- Learning Rate placeholder\n",
    "\n",
    "Return the placeholders in the following tuple `(Input, Targets, LearningRate)`"
   ]
  },
  {
   "cell_type": "code",
   "execution_count": 8,
   "metadata": {},
   "outputs": [
    {
     "name": "stdout",
     "output_type": "stream",
     "text": [
      "Tests Passed\n"
     ]
    }
   ],
   "source": [
    "def get_inputs():\n",
    "    \"\"\"\n",
    "    Create TF Placeholders for input, targets, and learning rate.\n",
    "    :return: Tuple (input, targets, learning rate)\n",
    "    \"\"\"\n",
    "    # TODO: Implement Function\n",
    "    inputs = tf.placeholder(tf.int32, [None, None], name='input')\n",
    "    targets = tf.placeholder(tf.int32, [None, None], name='labels')\n",
    "    learning_rate = tf.placeholder(tf.float32, name='learning_rate')\n",
    "    \n",
    "    return inputs, targets, learning_rate\n",
    "\n",
    "\n",
    "\"\"\"\n",
    "DON'T MODIFY ANYTHING IN THIS CELL THAT IS BELOW THIS LINE\n",
    "\"\"\"\n",
    "tests.test_get_inputs(get_inputs)"
   ]
  },
  {
   "cell_type": "markdown",
   "metadata": {},
   "source": [
    "### Build RNN Cell and Initialize\n",
    "Stack one or more [`BasicLSTMCells`](https://www.tensorflow.org/api_docs/python/tf/contrib/rnn/BasicLSTMCell) in a [`MultiRNNCell`](https://www.tensorflow.org/api_docs/python/tf/contrib/rnn/MultiRNNCell).\n",
    "- The Rnn size should be set using `rnn_size`\n",
    "- Initalize Cell State using the MultiRNNCell's [`zero_state()`](https://www.tensorflow.org/api_docs/python/tf/contrib/rnn/MultiRNNCell#zero_state) function\n",
    "    - Apply the name \"initial_state\" to the initial state using [`tf.identity()`](https://www.tensorflow.org/api_docs/python/tf/identity)\n",
    "\n",
    "Return the cell and initial state in the following tuple `(Cell, InitialState)`"
   ]
  },
  {
   "cell_type": "code",
   "execution_count": 9,
   "metadata": {},
   "outputs": [
    {
     "name": "stdout",
     "output_type": "stream",
     "text": [
      "Tests Passed\n"
     ]
    }
   ],
   "source": [
    "def get_init_cell(batch_size, rnn_size):\n",
    "    \"\"\"\n",
    "    Create an RNN Cell and initialize it.\n",
    "    :param batch_size: Size of batches\n",
    "    :param rnn_size: Size of RNNs\n",
    "    :return: Tuple (cell, initialize state)\n",
    "    \"\"\"\n",
    "    # TODO: Implement Function\n",
    "    lstm = tf.contrib.rnn.BasicLSTMCell(rnn_size)\n",
    "    drop = tf.contrib.rnn.DropoutWrapper(lstm, output_keep_prob=1.0)\n",
    "    cell = tf.contrib.rnn.MultiRNNCell([drop])\n",
    "    initial_state = cell.zero_state(batch_size, tf.float32)\n",
    "    initial_state = tf.identity(initial_state, name='initial_state')\n",
    "    \n",
    "    return cell, initial_state\n",
    "\n",
    "\n",
    "\"\"\"\n",
    "DON'T MODIFY ANYTHING IN THIS CELL THAT IS BELOW THIS LINE\n",
    "\"\"\"\n",
    "tests.test_get_init_cell(get_init_cell)"
   ]
  },
  {
   "cell_type": "markdown",
   "metadata": {},
   "source": [
    "### Word Embedding\n",
    "Apply embedding to `input_data` using TensorFlow.  Return the embedded sequence."
   ]
  },
  {
   "cell_type": "code",
   "execution_count": 10,
   "metadata": {},
   "outputs": [
    {
     "name": "stdout",
     "output_type": "stream",
     "text": [
      "Tests Passed\n"
     ]
    }
   ],
   "source": [
    "def get_embed(input_data, vocab_size, embed_dim):\n",
    "    \"\"\"\n",
    "    Create embedding for <input_data>.\n",
    "    :param input_data: TF placeholder for text input.\n",
    "    :param vocab_size: Number of words in vocabulary.\n",
    "    :param embed_dim: Number of embedding dimensions\n",
    "    :return: Embedded input.\n",
    "    \"\"\"\n",
    "    # TODO: Implement Function\n",
    "    embedding_shape = (vocab_size, embed_dim)\n",
    "    embedding = tf.Variable(tf.random_uniform(embedding_shape, -1, 1, dtype=tf.float32), name=\"embedding\")\n",
    "    embed = tf.nn.embedding_lookup(embedding, input_data, name=\"embedding_lookup\")\n",
    "    return embed\n",
    "\n",
    "\n",
    "\"\"\"\n",
    "DON'T MODIFY ANYTHING IN THIS CELL THAT IS BELOW THIS LINE\n",
    "\"\"\"\n",
    "tests.test_get_embed(get_embed)"
   ]
  },
  {
   "cell_type": "markdown",
   "metadata": {},
   "source": [
    "### Build RNN\n",
    "You created a RNN Cell in the `get_init_cell()` function.  Time to use the cell to create a RNN.\n",
    "- Build the RNN using the [`tf.nn.dynamic_rnn()`](https://www.tensorflow.org/api_docs/python/tf/nn/dynamic_rnn)\n",
    " - Apply the name \"final_state\" to the final state using [`tf.identity()`](https://www.tensorflow.org/api_docs/python/tf/identity)\n",
    "\n",
    "Return the outputs and final_state state in the following tuple `(Outputs, FinalState)` "
   ]
  },
  {
   "cell_type": "code",
   "execution_count": 11,
   "metadata": {},
   "outputs": [
    {
     "name": "stdout",
     "output_type": "stream",
     "text": [
      "Tests Passed\n"
     ]
    }
   ],
   "source": [
    "def build_rnn(cell, inputs):\n",
    "    \"\"\"\n",
    "    Create a RNN using a RNN Cell\n",
    "    :param cell: RNN Cell\n",
    "    :param inputs: Input text data\n",
    "    :return: Tuple (Outputs, Final State)\n",
    "    \"\"\"\n",
    "    # TODO: Implement Function\n",
    "    outputs, final_state = tf.nn.dynamic_rnn(cell, inputs, dtype=tf.float32)   # Must define dtype if there zero initial state\n",
    "    final_state = tf.identity(final_state, name='final_state')\n",
    "    \n",
    "    return outputs, final_state\n",
    "\n",
    "\n",
    "\"\"\"\n",
    "DON'T MODIFY ANYTHING IN THIS CELL THAT IS BELOW THIS LINE\n",
    "\"\"\"\n",
    "tests.test_build_rnn(build_rnn)"
   ]
  },
  {
   "cell_type": "markdown",
   "metadata": {},
   "source": [
    "### Build the Neural Network\n",
    "Apply the functions you implemented above to:\n",
    "- Apply embedding to `input_data` using your `get_embed(input_data, vocab_size, embed_dim)` function.\n",
    "- Build RNN using `cell` and your `build_rnn(cell, inputs)` function.\n",
    "- Apply a fully connected layer with a linear activation and `vocab_size` as the number of outputs.\n",
    "\n",
    "Return the logits and final state in the following tuple (Logits, FinalState) "
   ]
  },
  {
   "cell_type": "code",
   "execution_count": 12,
   "metadata": {},
   "outputs": [
    {
     "name": "stdout",
     "output_type": "stream",
     "text": [
      "Tests Passed\n"
     ]
    }
   ],
   "source": [
    "def build_nn(cell, rnn_size, input_data, vocab_size, embed_dim):\n",
    "    \"\"\"\n",
    "    Build part of the neural network\n",
    "    :param cell: RNN cell\n",
    "    :param rnn_size: Size of rnns\n",
    "    :param input_data: Input data\n",
    "    :param vocab_size: Vocabulary size\n",
    "    :param embed_dim: Number of embedding dimensions\n",
    "    :return: Tuple (Logits, FinalState)\n",
    "    \"\"\"\n",
    "    # TODO: Implement Function\n",
    "    \n",
    "    # Implementing embedding to input_data using get_embed(input_data, vocab_size, embed_dim) \n",
    "    embed = get_embed(input_data, vocab_size, rnn_size)\n",
    "    \n",
    "    # Build RNN using cell and build_rnn(cell, imputs)\n",
    "    outputs, final_state = build_rnn(cell, embed)\n",
    "    \n",
    "    # Implementing a fully connected layer with a linear activation and vocab_size as the number of outputs\n",
    "    logits = tf.contrib.layers.fully_connected(outputs, vocab_size, activation_fn=None) # To maintain a linear activation, activation_fn explicitly set to None to skip it.\n",
    "    \n",
    "    return logits, final_state\n",
    "\n",
    "\n",
    "\"\"\"\n",
    "DON'T MODIFY ANYTHING IN THIS CELL THAT IS BELOW THIS LINE\n",
    "\"\"\"\n",
    "tests.test_build_nn(build_nn)"
   ]
  },
  {
   "cell_type": "markdown",
   "metadata": {},
   "source": [
    "### Batches\n",
    "Implement `get_batches` to create batches of input and targets using `int_text`.  The batches should be a Numpy array with the shape `(number of batches, 2, batch size, sequence length)`. Each batch contains two elements:\n",
    "- The first element is a single batch of **input** with the shape `[batch size, sequence length]`\n",
    "- The second element is a single batch of **targets** with the shape `[batch size, sequence length]`\n",
    "\n",
    "If you can't fill the last batch with enough data, drop the last batch.\n",
    "\n",
    "For example, `get_batches([1, 2, 3, 4, 5, 6, 7, 8, 9, 10, 11, 12, 13, 14, 15, 16, 17, 18, 19, 20], 3, 2)` would return a Numpy array of the following:\n",
    "```\n",
    "[\n",
    "  # First Batch\n",
    "  [\n",
    "    # Batch of Input\n",
    "    [[ 1  2], [ 7  8], [13 14]]\n",
    "    # Batch of targets\n",
    "    [[ 2  3], [ 8  9], [14 15]]\n",
    "  ]\n",
    "\n",
    "  # Second Batch\n",
    "  [\n",
    "    # Batch of Input\n",
    "    [[ 3  4], [ 9 10], [15 16]]\n",
    "    # Batch of targets\n",
    "    [[ 4  5], [10 11], [16 17]]\n",
    "  ]\n",
    "\n",
    "  # Third Batch\n",
    "  [\n",
    "    # Batch of Input\n",
    "    [[ 5  6], [11 12], [17 18]]\n",
    "    # Batch of targets\n",
    "    [[ 6  7], [12 13], [18  1]]\n",
    "  ]\n",
    "]\n",
    "```\n",
    "\n",
    "Notice that the last target value in the last batch is the first input value of the first batch. In this case, `1`. This is a common technique used when creating sequence batches, although it is rather unintuitive."
   ]
  },
  {
   "cell_type": "code",
   "execution_count": 13,
   "metadata": {},
   "outputs": [
    {
     "name": "stdout",
     "output_type": "stream",
     "text": [
      "Tests Passed\n"
     ]
    }
   ],
   "source": [
    "def get_batches(int_text, batch_size, seq_length):\n",
    "    \"\"\"\n",
    "    Return batches of input and target\n",
    "    :param int_text: Text with the words replaced by their ids\n",
    "    :param batch_size: The size of batch\n",
    "    :param seq_length: The length of sequence\n",
    "    :return: Batches as a Numpy array\n",
    "    \"\"\"\n",
    "    # TODO: Implement Function\n",
    "    n_chars = batch_size * seq_length\n",
    "    n_batches = int(len(int_text) / n_chars)\n",
    "    \n",
    "    inputs = np.array(int_text[ : n_batches * n_chars])\n",
    "    targets = np.array(int_text[1 : n_batches * n_chars + 1])\n",
    "    targets[len(targets)-1] = inputs[0]\n",
    "    \n",
    "    inputs_batches = np.split(inputs.reshape(batch_size, -1), n_batches, 1)\n",
    "    targets_batches = np.split(targets.reshape(batch_size, -1), n_batches, 1)\n",
    "    \n",
    "    output = np.array(list(zip(inputs_batches, targets_batches)))\n",
    "    \n",
    "    return output\n",
    "\n",
    "\n",
    "\n",
    "\"\"\"\n",
    "DON'T MODIFY ANYTHING IN THIS CELL THAT IS BELOW THIS LINE\n",
    "\"\"\"\n",
    "tests.test_get_batches(get_batches)"
   ]
  },
  {
   "cell_type": "markdown",
   "metadata": {},
   "source": [
    "## Neural Network Training\n",
    "### Hyperparameters\n",
    "Tune the following parameters:\n",
    "\n",
    "- Set `num_epochs` to the number of epochs.\n",
    "- Set `batch_size` to the batch size.\n",
    "- Set `rnn_size` to the size of the RNNs.\n",
    "- Set `embed_dim` to the size of the embedding.\n",
    "- Set `seq_length` to the length of sequence.\n",
    "- Set `learning_rate` to the learning rate.\n",
    "- Set `show_every_n_batches` to the number of batches the neural network should print progress."
   ]
  },
  {
   "cell_type": "code",
   "execution_count": 14,
   "metadata": {},
   "outputs": [],
   "source": [
    "# Number of Epochs\n",
    "num_epochs = 100\n",
    "# Batch Size\n",
    "batch_size = 128\n",
    "# RNN Size\n",
    "rnn_size = 512\n",
    "# Embedding Dimension Size\n",
    "embed_dim = 384\n",
    "# Sequence Length\n",
    "seq_length = 30\n",
    "# Learning Rate\n",
    "learning_rate = 0.007\n",
    "# Show stats for every n number of batches\n",
    "show_every_n_batches = 20\n",
    "\n",
    "\"\"\"\n",
    "DON'T MODIFY ANYTHING IN THIS CELL THAT IS BELOW THIS LINE\n",
    "\"\"\"\n",
    "save_dir = './save'"
   ]
  },
  {
   "cell_type": "markdown",
   "metadata": {},
   "source": [
    "### Build the Graph\n",
    "Build the graph using the neural network you implemented."
   ]
  },
  {
   "cell_type": "code",
   "execution_count": 15,
   "metadata": {},
   "outputs": [],
   "source": [
    "\"\"\"\n",
    "DON'T MODIFY ANYTHING IN THIS CELL\n",
    "\"\"\"\n",
    "from tensorflow.contrib import seq2seq\n",
    "\n",
    "train_graph = tf.Graph()\n",
    "with train_graph.as_default():\n",
    "    vocab_size = len(int_to_vocab)\n",
    "    input_text, targets, lr = get_inputs()\n",
    "    input_data_shape = tf.shape(input_text)\n",
    "    cell, initial_state = get_init_cell(input_data_shape[0], rnn_size)\n",
    "    logits, final_state = build_nn(cell, rnn_size, input_text, vocab_size, embed_dim)\n",
    "\n",
    "    # Probabilities for generating words\n",
    "    probs = tf.nn.softmax(logits, name='probs')\n",
    "\n",
    "    # Loss function\n",
    "    cost = seq2seq.sequence_loss(\n",
    "        logits,\n",
    "        targets,\n",
    "        tf.ones([input_data_shape[0], input_data_shape[1]]))\n",
    "\n",
    "    # Optimizer\n",
    "    optimizer = tf.train.AdamOptimizer(lr)\n",
    "\n",
    "    # Gradient Clipping\n",
    "    gradients = optimizer.compute_gradients(cost)\n",
    "    capped_gradients = [(tf.clip_by_value(grad, -1., 1.), var) for grad, var in gradients if grad is not None]\n",
    "    train_op = optimizer.apply_gradients(capped_gradients)"
   ]
  },
  {
   "cell_type": "markdown",
   "metadata": {},
   "source": [
    "## Train\n",
    "Train the neural network on the preprocessed data.  If you have a hard time getting a good loss, check the [forums](https://discussions.udacity.com/) to see if anyone is having the same problem."
   ]
  },
  {
   "cell_type": "code",
   "execution_count": 16,
   "metadata": {
    "scrolled": false
   },
   "outputs": [
    {
     "name": "stdout",
     "output_type": "stream",
     "text": [
      "Epoch   0 Batch    0/17   train_loss = 8.825\n",
      "Epoch   1 Batch    3/17   train_loss = 5.168\n",
      "Epoch   2 Batch    6/17   train_loss = 4.519\n",
      "Epoch   3 Batch    9/17   train_loss = 3.978\n",
      "Epoch   4 Batch   12/17   train_loss = 3.509\n",
      "Epoch   5 Batch   15/17   train_loss = 3.067\n",
      "Epoch   7 Batch    1/17   train_loss = 2.734\n",
      "Epoch   8 Batch    4/17   train_loss = 2.402\n",
      "Epoch   9 Batch    7/17   train_loss = 2.149\n",
      "Epoch  10 Batch   10/17   train_loss = 1.877\n",
      "Epoch  11 Batch   13/17   train_loss = 1.660\n",
      "Epoch  12 Batch   16/17   train_loss = 1.474\n",
      "Epoch  14 Batch    2/17   train_loss = 1.340\n",
      "Epoch  15 Batch    5/17   train_loss = 1.174\n",
      "Epoch  16 Batch    8/17   train_loss = 1.015\n",
      "Epoch  17 Batch   11/17   train_loss = 0.885\n",
      "Epoch  18 Batch   14/17   train_loss = 0.749\n",
      "Epoch  20 Batch    0/17   train_loss = 0.679\n",
      "Epoch  21 Batch    3/17   train_loss = 0.627\n",
      "Epoch  22 Batch    6/17   train_loss = 0.545\n",
      "Epoch  23 Batch    9/17   train_loss = 0.497\n",
      "Epoch  24 Batch   12/17   train_loss = 0.427\n",
      "Epoch  25 Batch   15/17   train_loss = 0.391\n",
      "Epoch  27 Batch    1/17   train_loss = 0.335\n",
      "Epoch  28 Batch    4/17   train_loss = 0.282\n",
      "Epoch  29 Batch    7/17   train_loss = 0.245\n",
      "Epoch  30 Batch   10/17   train_loss = 0.231\n",
      "Epoch  31 Batch   13/17   train_loss = 0.181\n",
      "Epoch  32 Batch   16/17   train_loss = 0.158\n",
      "Epoch  34 Batch    2/17   train_loss = 0.152\n",
      "Epoch  35 Batch    5/17   train_loss = 0.146\n",
      "Epoch  36 Batch    8/17   train_loss = 0.133\n",
      "Epoch  37 Batch   11/17   train_loss = 0.115\n",
      "Epoch  38 Batch   14/17   train_loss = 0.106\n",
      "Epoch  40 Batch    0/17   train_loss = 0.100\n",
      "Epoch  41 Batch    3/17   train_loss = 0.112\n",
      "Epoch  42 Batch    6/17   train_loss = 0.110\n",
      "Epoch  43 Batch    9/17   train_loss = 0.088\n",
      "Epoch  44 Batch   12/17   train_loss = 0.090\n",
      "Epoch  45 Batch   15/17   train_loss = 0.104\n",
      "Epoch  47 Batch    1/17   train_loss = 0.100\n",
      "Epoch  48 Batch    4/17   train_loss = 0.099\n",
      "Epoch  49 Batch    7/17   train_loss = 0.094\n",
      "Epoch  50 Batch   10/17   train_loss = 0.107\n",
      "Epoch  51 Batch   13/17   train_loss = 0.092\n",
      "Epoch  52 Batch   16/17   train_loss = 0.092\n",
      "Epoch  54 Batch    2/17   train_loss = 0.095\n",
      "Epoch  55 Batch    5/17   train_loss = 0.096\n",
      "Epoch  56 Batch    8/17   train_loss = 0.094\n",
      "Epoch  57 Batch   11/17   train_loss = 0.090\n",
      "Epoch  58 Batch   14/17   train_loss = 0.086\n",
      "Epoch  60 Batch    0/17   train_loss = 0.087\n",
      "Epoch  61 Batch    3/17   train_loss = 0.101\n",
      "Epoch  62 Batch    6/17   train_loss = 0.100\n",
      "Epoch  63 Batch    9/17   train_loss = 0.079\n",
      "Epoch  64 Batch   12/17   train_loss = 0.083\n",
      "Epoch  65 Batch   15/17   train_loss = 0.097\n",
      "Epoch  67 Batch    1/17   train_loss = 0.094\n",
      "Epoch  68 Batch    4/17   train_loss = 0.094\n",
      "Epoch  69 Batch    7/17   train_loss = 0.089\n",
      "Epoch  70 Batch   10/17   train_loss = 0.102\n",
      "Epoch  71 Batch   13/17   train_loss = 0.088\n",
      "Epoch  72 Batch   16/17   train_loss = 0.089\n",
      "Epoch  74 Batch    2/17   train_loss = 0.092\n",
      "Epoch  75 Batch    5/17   train_loss = 0.093\n",
      "Epoch  76 Batch    8/17   train_loss = 0.091\n",
      "Epoch  77 Batch   11/17   train_loss = 0.087\n",
      "Epoch  78 Batch   14/17   train_loss = 0.083\n",
      "Epoch  80 Batch    0/17   train_loss = 0.084\n",
      "Epoch  81 Batch    3/17   train_loss = 0.099\n",
      "Epoch  82 Batch    6/17   train_loss = 0.098\n",
      "Epoch  83 Batch    9/17   train_loss = 0.077\n",
      "Epoch  84 Batch   12/17   train_loss = 0.081\n",
      "Epoch  85 Batch   15/17   train_loss = 0.096\n",
      "Epoch  87 Batch    1/17   train_loss = 0.093\n",
      "Epoch  88 Batch    4/17   train_loss = 0.093\n",
      "Epoch  89 Batch    7/17   train_loss = 0.088\n",
      "Epoch  90 Batch   10/17   train_loss = 0.101\n",
      "Epoch  91 Batch   13/17   train_loss = 0.086\n",
      "Epoch  92 Batch   16/17   train_loss = 0.088\n",
      "Epoch  94 Batch    2/17   train_loss = 0.091\n",
      "Epoch  95 Batch    5/17   train_loss = 0.091\n",
      "Epoch  96 Batch    8/17   train_loss = 0.090\n",
      "Epoch  97 Batch   11/17   train_loss = 0.086\n",
      "Epoch  98 Batch   14/17   train_loss = 0.082\n",
      "Model Trained and Saved\n"
     ]
    }
   ],
   "source": [
    "\"\"\"\n",
    "DON'T MODIFY ANYTHING IN THIS CELL\n",
    "\"\"\"\n",
    "batches = get_batches(int_text, batch_size, seq_length)\n",
    "\n",
    "with tf.Session(graph=train_graph) as sess:\n",
    "    sess.run(tf.global_variables_initializer())\n",
    "\n",
    "    for epoch_i in range(num_epochs):\n",
    "        state = sess.run(initial_state, {input_text: batches[0][0]})\n",
    "\n",
    "        for batch_i, (x, y) in enumerate(batches):\n",
    "            feed = {\n",
    "                input_text: x,\n",
    "                targets: y,\n",
    "                initial_state: state,\n",
    "                lr: learning_rate}\n",
    "            train_loss, state, _ = sess.run([cost, final_state, train_op], feed)\n",
    "\n",
    "            # Show every <show_every_n_batches> batches\n",
    "            if (epoch_i * len(batches) + batch_i) % show_every_n_batches == 0:\n",
    "                print('Epoch {:>3} Batch {:>4}/{}   train_loss = {:.3f}'.format(\n",
    "                    epoch_i,\n",
    "                    batch_i,\n",
    "                    len(batches),\n",
    "                    train_loss))\n",
    "\n",
    "    # Save Model\n",
    "    saver = tf.train.Saver()\n",
    "    saver.save(sess, save_dir)\n",
    "    print('Model Trained and Saved')"
   ]
  },
  {
   "cell_type": "markdown",
   "metadata": {},
   "source": [
    "## Save Parameters\n",
    "Save `seq_length` and `save_dir` for generating a new TV script."
   ]
  },
  {
   "cell_type": "code",
   "execution_count": 17,
   "metadata": {},
   "outputs": [],
   "source": [
    "\"\"\"\n",
    "DON'T MODIFY ANYTHING IN THIS CELL\n",
    "\"\"\"\n",
    "# Save parameters for checkpoint\n",
    "helper.save_params((seq_length, save_dir))"
   ]
  },
  {
   "cell_type": "markdown",
   "metadata": {},
   "source": [
    "# Checkpoint"
   ]
  },
  {
   "cell_type": "code",
   "execution_count": 18,
   "metadata": {},
   "outputs": [],
   "source": [
    "\"\"\"\n",
    "DON'T MODIFY ANYTHING IN THIS CELL\n",
    "\"\"\"\n",
    "import tensorflow as tf\n",
    "import numpy as np\n",
    "import helper\n",
    "import problem_unittests as tests\n",
    "\n",
    "_, vocab_to_int, int_to_vocab, token_dict = helper.load_preprocess()\n",
    "seq_length, load_dir = helper.load_params()"
   ]
  },
  {
   "cell_type": "markdown",
   "metadata": {},
   "source": [
    "## Implement Generate Functions\n",
    "### Get Tensors\n",
    "Get tensors from `loaded_graph` using the function [`get_tensor_by_name()`](https://www.tensorflow.org/api_docs/python/tf/Graph#get_tensor_by_name).  Get the tensors using the following names:\n",
    "- \"input:0\"\n",
    "- \"initial_state:0\"\n",
    "- \"final_state:0\"\n",
    "- \"probs:0\"\n",
    "\n",
    "Return the tensors in the following tuple `(InputTensor, InitialStateTensor, FinalStateTensor, ProbsTensor)` "
   ]
  },
  {
   "cell_type": "code",
   "execution_count": 19,
   "metadata": {},
   "outputs": [
    {
     "name": "stdout",
     "output_type": "stream",
     "text": [
      "Tests Passed\n"
     ]
    }
   ],
   "source": [
    "def get_tensors(loaded_graph):\n",
    "    \"\"\"\n",
    "    Get input, initial state, final state, and probabilities tensor from <loaded_graph>\n",
    "    :param loaded_graph: TensorFlow graph loaded from file\n",
    "    :return: Tuple (InputTensor, InitialStateTensor, FinalStateTensor, ProbsTensor)\n",
    "    \"\"\"\n",
    "    # TODO: Implement Function\n",
    "    InputTensor = loaded_graph.get_tensor_by_name('input:0')\n",
    "    InitialStateTensor = loaded_graph.get_tensor_by_name('initial_state:0')\n",
    "    FinalStateTensor = loaded_graph.get_tensor_by_name('final_state:0')\n",
    "    ProbsTensor = loaded_graph.get_tensor_by_name('probs:0')\n",
    "    \n",
    "    return (InputTensor, InitialStateTensor, FinalStateTensor, ProbsTensor)\n",
    "\n",
    "\n",
    "\"\"\"\n",
    "DON'T MODIFY ANYTHING IN THIS CELL THAT IS BELOW THIS LINE\n",
    "\"\"\"\n",
    "tests.test_get_tensors(get_tensors)"
   ]
  },
  {
   "cell_type": "markdown",
   "metadata": {},
   "source": [
    "### Choose Word\n",
    "Implement the `pick_word()` function to select the next word using `probabilities`."
   ]
  },
  {
   "cell_type": "code",
   "execution_count": 20,
   "metadata": {},
   "outputs": [
    {
     "name": "stdout",
     "output_type": "stream",
     "text": [
      "Tests Passed\n"
     ]
    }
   ],
   "source": [
    "import random\n",
    "\n",
    "def pick_word(probabilities, int_to_vocab):\n",
    "    \"\"\"\n",
    "    Pick the next word in the generated text\n",
    "    :param probabilities: Probabilites of the next word\n",
    "    :param int_to_vocab: Dictionary of word ids as the keys and words as the values\n",
    "    :return: String of the predicted word\n",
    "    \"\"\"\n",
    "    # TODO: Implement Function\n",
    "    # print(probabilities)\n",
    "    # print(int_to_vocab)\n",
    "    random_num = random.uniform(0, 1.0)\n",
    "    \n",
    "    # print(random_num)\n",
    "    cum_prob = 0\n",
    "    for i, word in enumerate(int_to_vocab):\n",
    "        cum_prob += probabilities[i]\n",
    "        if (random_num <= cum_prob):  #print(i, cum_prob, int_to_vocab[word])\n",
    "            break\n",
    "            \n",
    "    return int_to_vocab[word]\n",
    "\n",
    "\n",
    "\"\"\"\n",
    "DON'T MODIFY ANYTHING IN THIS CELL THAT IS BELOW THIS LINE\n",
    "\"\"\"\n",
    "tests.test_pick_word(pick_word)"
   ]
  },
  {
   "cell_type": "markdown",
   "metadata": {},
   "source": [
    "## Generate TV Script\n",
    "This will generate the TV script for you.  Set `gen_length` to the length of TV script you want to generate."
   ]
  },
  {
   "cell_type": "code",
   "execution_count": 21,
   "metadata": {
    "scrolled": false
   },
   "outputs": [
    {
     "name": "stdout",
     "output_type": "stream",
     "text": [
      "INFO:tensorflow:Restoring parameters from ./save\n",
      "moe_szyslak: sure, homer, i can loan you all the money you need. however(he leans in confidentially) since you have no collateral, i'm gonna have to quit drinking.\n",
      "homer_simpson: shut up, liver.\n",
      "homer_simpson:(puzzled) ooh, my liver hurts.\n",
      "\n",
      "\n",
      "moe_szyslak: hey, homer.\n",
      "homer_simpson: you dirty teen.\n",
      "moe_szyslak:(being hit sounds) hey, homer stop, stop it!\n",
      "homer_simpson: sorry, fellas. there's lots of people uglier than you. like, you ever been to white castle?\n",
      "carl_carlson: ho, boy--\n",
      "homer_simpson:(confident) i'll see your fifty cents and raise you one dollar.\n",
      "artie_ziff: well, i'm out of vodka. it's out of the poor and i've can i get a beer?\n",
      "\n",
      "\n",
      "carl_carlson: is there, homer? it's 'cause it's not like drivin'.\n",
      "moe_szyslak: oh, yeah, yeah.(sobs) super.(to self) santeria, do you know, i bid you--(choking sound)\n",
      "homer_simpson:(spinning) who-o-oa! who-o-oa!\n",
      "moe_szyslak: i've spit in her first place. no, like, this is me.\n",
      "homer_simpson: i was just tellin' me some peanuts.\n",
      "\n",
      "\n",
      "moe_szyslak: eh, you think it was the last few weeks?\n",
      "homer_simpson:(bitterly) playing nursemaid to chief wiggum.\n",
      "carl_carlson: people who get the doors unlocked.\n",
      "lenny_leonard: wowww.\n",
      "homer_simpson: right now we're back in business.\n",
      "barney_gumble: you know, moe, you might want to keep the fire extinguishers.\n",
      "moe_szyslak: nah. too many bad memories.\n",
      "marge_simpson:(to self) santeria, you're the greatest!\n",
      "homer_simpson: barney, didn't you say you were gonna stop drinking?\n",
      "lenny_leonard: to a new way to spread germs...\n",
      "\n",
      "\n",
      "barflies: burn! burn! burn!\n",
      "barney_gumble:(amid curious sounds) hey.\n",
      "lenny_leonard: hey, homer.\n",
      "homer_simpson: you dirty teen.\n",
      "moe_szyslak:(being hit sounds) hey, homer stop, stop it!\n",
      "homer_simpson: moe... and my heart just be careful.\n",
      "carl_carlson: hey, me ain't never gonna be nine o'clock.\n",
      "homer_simpson: oh, no. makin' polenta, that's a procedure. you're talkin' about deadly, life-threatening surgery, here.\n",
      "homer_simpson:(getting idea) why don't we all pick the most ridiculous candidate, and write him?\n",
      "moe_szyslak: no, the bees!\n",
      "homer_simpson:(tough) all right, here you go, pal.\n",
      "lenny_leonard: we kicked down the back door, but then there was a metal door.\n",
      "moe_szyslak: yeah, all right, listen up. while i watch her from in here.(turns) whaddaya been sippin' cuckoo juice?\n",
      "homer_simpson: well, i'm a corporate recruiter who isn't that seems less funny each after you.\n",
      "lindsay_naegle:(then mean) i know, i know your father's in.\n",
      "moe_szyslak: so you're looking for a mr. smithers, eh? first name, waylon, is it?(suddenly vicious) listen to me, mr....\n",
      "moe_szyslak: yeah, i always go with the hospital.\n",
      "moe_szyslak: you, homer?!\n",
      "moe_szyslak:(sing) si-lent night / ho-ly night\n",
      "kent_brockman:(loud) no, i'm glad you said that. 'cause you reminded me that i'm not looking to come out of your basement?\n",
      "barney_gumble: eh, medical... well, i just made friends.\n",
      "moe_szyslak:(pleased) really?\n",
      "moe's_thoughts:(grimly) okay there, moe.\n",
      "homer_simpson: i just wish she hadn't died thinking i hated her.\n",
      "carl_carlson: with our busy, leave any loser? human feeling.\n",
      "\n",
      "\n",
      "homer_simpson:(shrieks) i am so late!\n",
      "moe_szyslak: whoa, whoa, whoa it's the night how much you... and you could win your mom back by appealing to her feelings?\n",
      "homer_simpson: how could the publishers change our book? if they had been in charge of the sistine chapel, the whole bar down. i finally got barney back on the sauce. if he doesn't talk, i'm on the house.\n",
      "homer_simpson: al, ask me? if you like my wife, i'd love to discuss your problems but a pack of a chum.\n",
      "homer_simpson: well what about you, lenny?\n",
      "lenny_leonard: you know i am.\n",
      "carl_carlson: all right.\n",
      "moe_szyslak:(sobs like teenage girl, then clearly says) if i didn't mean what's the entire steel mill was was talking to me!\n",
      "moe_szyslak: was you guys in a drink?\n",
      "moe_szyslak:(reentering) oh, that, hey, that's really sweet. hey, can noosey come too stupid. like one of them charlie brown wiggle-frowns.\n",
      "homer_simpson: i'm in an abusive relationship with life. it keeps beating the hell out of the year.\n",
      "lisa_simpson: why don't we all go on our suspended krabappel!\n",
      "barney_gumble:(shaking his head) what kind of pathetic drunk do you take me for?(gasp)\n",
      "homer_simpson:(loud whisper) let's try what chapter seven calls\" un-sults\",\" we\" the\" beers ordered.\"\n",
      "homer_simpson: hmm, bold-- refreshing... and something i can't quite put my finger on.\n",
      "homer_simpson: well, it's one of you.\n",
      "lenny_leonard:(shaking head) not this again.\n",
      "carl_carlson: yes, this again!\n",
      "seymour_skinner: you know, homer, edna was a good woman can really go up there.\n",
      "moe_szyslak: how 'bout\" orgasmville\"? hello? hello?\n",
      "moe_szyslak: hell, how far this about the other. i don't bite. i might gum ya. and you might like it.\n",
      "\n",
      "\n",
      "moe_szyslak:(counting to bottle)\n",
      "moe_szyslak:(, lenny, homer, you're the greatest.\n",
      "barney_gumble: you know, i just got this for women, don't you have one of your advice.\n",
      "moe_szyslak:(tough) homer, the mob is puttin' the screws on me, see, you all are eurotrash, huh?\n",
      "lisa_simpson:(tipsy) give me the keys!\n",
      "homer_simpson: what are you trying to tell me, skinner?\n",
      "seymour_skinner: homer, lenny... my man... i could never do it.\n",
      "moe_szyslak: hey, homer.\n",
      "homer_simpson: you dirty teen.\n",
      "moe_szyslak:(being hit sounds) hey, homer stop, stop it!\n",
      "homer_simpson: moe, the one from those.\n",
      "moe_szyslak: better set the alarm.\n",
      "lenny_leonard: you know, i been meanin' to empty that out.\n",
      "homer_simpson:(gasp) you know lucius sweet? he's one of the biggest names in front of the biggest ever street.\n",
      "kent_brockman: fire has have a very big company.\n",
      "barney_gumble: you know, homer, edna was a good woman can save any man.\n",
      "moe_szyslak: what got someone else this guy?\n",
      "moe_szyslak: uh, who am i kiddin'? i never really need to come for your life partner. buy yourselves a nice dinner.\n",
      "new_health_inspector:(disapproving) uh-huh... uh-huh...(big exhale)\n",
      "moe_szyslak:(sad, sincere) yeah, last year i broke it just so the repairman would come.\n",
      "carl_carlson: the absorbent kind?\n",
      "moe_szyslak:(proudly) hey, people on permanent earth you should be my life.\n",
      "barney_gumble: to a drunk man that's a yes!\n",
      "barney_gumble:(driving noises, then) beep! beep!\n",
      "moe_szyslak:(laughs) that can do that\" blue man group. i say, mafia crime syndicate.\n",
      "fat_tony: now, the be sharps.\n",
      "homer_simpson: yeah, but aren't those experiments dangerous?\n",
      "barney_gumble: ah, you get a karaoke machine.\n",
      "grampa_simpson: that's the second time he pulled the plug on me.\n",
      "betty: i was just in a car accident. can can i put this.\n",
      "\n",
      "\n",
      "lenny_leonard: if you ask me muhammad ali, in his prime, was much better than anti-lock brakes.\n",
      "carl_carlson: yeah, but what about johnny, moe?\n",
      "moe_szyslak: yeah, that's great there, ling chow.\n",
      "moe_szyslak: so, uh, you guys are eurotrash, huh? how's that, uh, workin' out for ya?\n",
      "gunter: eh, yeah, yeah... whoa... whoa... ooh!(quickly) one, two, three, four. yee-haw!(quickly) one, two, three, four. yee-haw!(quickly) one, two, three, four. yee-haw!(quickly) one, two, three, four. yee-haw!(quickly) one, two, three, four. yee-haw!(quickly) one, two, three, four. yee-haw!(quickly) one, two, three, four. yee-haw!(quickly) one, two, three, four. yee-haw!(quickly) one, two, three, four. yee-haw!(quickly) one, two, three, four. yee-haw!(quickly) one, two, three, four. yee-haw!(quickly) one, two, three, four. yee-haw!(quickly) one, two, three, four. yee-haw!(quickly) one, two, three, four. yee-haw!(quickly) one, two, three, four. yee-haw!(quickly) one, two, three, four. yee-haw!(quickly) one, two, three, four. yee-haw!(quickly) one, two, three, four. yee-haw!(quickly) one, two, three, four. yee-haw!(quickly) one, two, three, four. yee-haw!(quickly) one, two, three, four. yee-haw!(quickly) one, two, three, four. yee-haw!(quickly) one, two, three, four. yee-haw!(quickly) one, two, three, four. yee-haw!(quickly) one, two, three, four. yee-haw!(quickly) one, two, three, four. yee-haw!(quickly) one, two, three, four. yee-haw!(quickly) one, handsome!\n",
      "marge_simpson:(embarrassed) oh!\n",
      "moe_szyslak: what?(hopeful) i mean, if you die. they look pretty comfortable.\n",
      "homer_simpson:(reading)\" can i borrow a feeling?\"(still laughing) there's your picture on a--(gasps)\n",
      "\n",
      "\n",
      "moe_szyslak:(hanging up) well, homer's out\n"
     ]
    }
   ],
   "source": [
    "gen_length = 2000\n",
    "# homer_simpson, moe_szyslak, or Barney_Gumble\n",
    "prime_word = 'moe_szyslak'\n",
    "\n",
    "\"\"\"\n",
    "DON'T MODIFY ANYTHING IN THIS CELL THAT IS BELOW THIS LINE\n",
    "\"\"\"\n",
    "loaded_graph = tf.Graph()\n",
    "with tf.Session(graph=loaded_graph) as sess:\n",
    "    # Load saved model\n",
    "    loader = tf.train.import_meta_graph(load_dir + '.meta')\n",
    "    loader.restore(sess, load_dir)\n",
    "\n",
    "    # Get Tensors from loaded model\n",
    "    input_text, initial_state, final_state, probs = get_tensors(loaded_graph)\n",
    "\n",
    "    # Sentences generation setup\n",
    "    gen_sentences = [prime_word + ':']\n",
    "    prev_state = sess.run(initial_state, {input_text: np.array([[1]])})\n",
    "\n",
    "    # Generate sentences\n",
    "    for n in range(gen_length):\n",
    "        # Dynamic Input\n",
    "        dyn_input = [[vocab_to_int[word] for word in gen_sentences[-seq_length:]]]\n",
    "        dyn_seq_length = len(dyn_input[0])\n",
    "\n",
    "        # Get Prediction\n",
    "        probabilities, prev_state = sess.run(\n",
    "            [probs, final_state],\n",
    "            {input_text: dyn_input, initial_state: prev_state})\n",
    "        \n",
    "        pred_word = pick_word(probabilities[0][dyn_seq_length-1], int_to_vocab)\n",
    "\n",
    "        gen_sentences.append(pred_word)\n",
    "    \n",
    "    # Remove tokens\n",
    "    tv_script = ' '.join(gen_sentences)\n",
    "    for key, token in token_dict.items():\n",
    "        ending = ' ' if key in ['\\n', '(', '\"'] else ''\n",
    "        tv_script = tv_script.replace(' ' + token.lower(), key)\n",
    "    tv_script = tv_script.replace('\\n ', '\\n')\n",
    "    tv_script = tv_script.replace('( ', '(')\n",
    "        \n",
    "    print(tv_script)"
   ]
  },
  {
   "cell_type": "markdown",
   "metadata": {},
   "source": [
    "# The TV Script is Nonsensical\n",
    "It's ok if the TV script doesn't make any sense.  We trained on less than a megabyte of text.  In order to get good results, you'll have to use a smaller vocabulary or get more data.  Luckily there's more data!  As we mentioned in the beggining of this project, this is a subset of [another dataset](https://www.kaggle.com/wcukierski/the-simpsons-by-the-data).  We didn't have you train on all the data, because that would take too long.  However, you are free to train your neural network on all the data.  After you complete the project, of course.\n",
    "# Submitting This Project\n",
    "When submitting this project, make sure to run all the cells before saving the notebook. Save the notebook file as \"dlnd_tv_script_generation.ipynb\" and save it as a HTML file under \"File\" -> \"Download as\". Include the \"helper.py\" and \"problem_unittests.py\" files in your submission."
   ]
  }
 ],
 "metadata": {
  "kernelspec": {
   "display_name": "Python 3",
   "language": "python",
   "name": "python3"
  },
  "language_info": {
   "codemirror_mode": {
    "name": "ipython",
    "version": 3
   },
   "file_extension": ".py",
   "mimetype": "text/x-python",
   "name": "python",
   "nbconvert_exporter": "python",
   "pygments_lexer": "ipython3",
   "version": "3.6.6"
  },
  "widgets": {
   "state": {},
   "version": "1.1.2"
  }
 },
 "nbformat": 4,
 "nbformat_minor": 1
}
